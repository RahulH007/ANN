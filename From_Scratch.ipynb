{
 "cells": [
  {
   "cell_type": "code",
   "execution_count": 1,
   "id": "2b1ebf72-265e-4050-b5b4-3d2adfe5be22",
   "metadata": {},
   "outputs": [],
   "source": [
    "# Minimal NumPy neraul-network for MNIST"
   ]
  },
  {
   "cell_type": "code",
   "execution_count": 2,
   "id": "5a243c0a-120c-4897-9aad-e5cadcd772a0",
   "metadata": {},
   "outputs": [],
   "source": [
    "import numpy as np\n",
    "from tensorflow.keras.datasets import mnist\n",
    "from tensorflow.keras.utils import to_categorical"
   ]
  },
  {
   "cell_type": "code",
   "execution_count": 3,
   "id": "a0be7255-bf3e-4d92-9d9d-b9c3b5969607",
   "metadata": {},
   "outputs": [],
   "source": [
    "(X_train,y_train),(X_test,y_test)=mnist.load_data()"
   ]
  },
  {
   "cell_type": "code",
   "execution_count": 4,
   "id": "28ed0bb1-7eb8-410c-b1db-2b3890c6cc23",
   "metadata": {},
   "outputs": [],
   "source": [
    "#Noramlizing\n",
    "X_train=X_train.reshape(-1,28*28)/255.0\n",
    "X_test=X_test.reshape(-1,28*28)/255.0"
   ]
  },
  {
   "cell_type": "code",
   "execution_count": 5,
   "id": "866c7708-0579-4b3e-bcf1-1f23450c8dee",
   "metadata": {},
   "outputs": [],
   "source": [
    "#Encode Labels\n",
    "y_train_en=to_categorical(y_train)\n",
    "y_test_en=to_categorical(y_test)"
   ]
  },
  {
   "cell_type": "code",
   "execution_count": 6,
   "id": "40305703-1461-4f8a-9da7-654bff0e8c6d",
   "metadata": {},
   "outputs": [],
   "source": [
    "#Relu\n",
    "def relu(x):\n",
    "    return np.maximum(0,x)\n",
    "def relu_derivative(x):\n",
    "    return (x>0).astype(np.float32)"
   ]
  },
  {
   "cell_type": "code",
   "execution_count": 7,
   "id": "999a15e5-f270-4294-89c7-0c0f43d6d669",
   "metadata": {},
   "outputs": [],
   "source": [
    "#Softmax\n",
    "def softmax(x):\n",
    "    exps=np.exp(x-np.max(x,axis=1,keepdims=True))\n",
    "    return exps/np.sum(exps,axis=1,keepdims=True)"
   ]
  },
  {
   "cell_type": "code",
   "execution_count": 8,
   "id": "3c80a850-e68f-4d20-be83-5849832cfee9",
   "metadata": {},
   "outputs": [],
   "source": [
    "def cross_entropy_loss(y_pred,y_true):\n",
    "    m=y_pred.shape[0]\n",
    "    eps=1e-9\n",
    "    return -np.sum(y_true*np.log(y_pred+eps))/m"
   ]
  },
  {
   "cell_type": "code",
   "execution_count": 9,
   "id": "f483263a-4505-4a86-b9c8-bfdf6bf288f5",
   "metadata": {},
   "outputs": [],
   "source": [
    "def accuracy(y_pred,y_true):\n",
    "    return np.mean(np.argmax(y_pred,axis=1)==y_true)"
   ]
  },
  {
   "cell_type": "code",
   "execution_count": 10,
   "id": "7b7f03c0-475b-4d4c-9190-45668ab6bb2d",
   "metadata": {},
   "outputs": [],
   "source": [
    "input_size = 784\n",
    "hidden_size = 128\n",
    "output_size = 10\n",
    "lr = 0.01\n",
    "epochs = 10\n",
    "batch_size = 64"
   ]
  },
  {
   "cell_type": "code",
   "execution_count": 11,
   "id": "08626123-c1d6-4e57-8e2a-223ff380c242",
   "metadata": {},
   "outputs": [],
   "source": [
    "np.random.seed(42)\n",
    "W1 = np.random.randn(input_size, hidden_size) * 0.01\n",
    "b1 = np.zeros((1, hidden_size))\n",
    "W2 = np.random.randn(hidden_size, output_size) * 0.01\n",
    "b2 = np.zeros((1, output_size))"
   ]
  },
  {
   "cell_type": "code",
   "execution_count": null,
   "id": "50c882ca-9634-4718-b9d1-642706555483",
   "metadata": {},
   "outputs": [
    {
     "name": "stdout",
     "output_type": "stream",
     "text": [
      "Epoch 1 - Test Accuracy: 0.8664\n",
      "Epoch 2 - Test Accuracy: 0.8903\n",
      "Epoch 3 - Test Accuracy: 0.8999\n",
      "Epoch 4 - Test Accuracy: 0.9057\n",
      "Epoch 5 - Test Accuracy: 0.9115\n",
      "Epoch 6 - Test Accuracy: 0.9146\n",
      "Epoch 7 - Test Accuracy: 0.9191\n"
     ]
    }
   ],
   "source": [
    "for epoch in range(epochs):\n",
    "    for i in range(0,len(X_train),batch_size):\n",
    "        X=X_train[i:i+batch_size]\n",
    "        y=y_train_en[i:i+batch_size]\n",
    "\n",
    "        Z1=X@W1+b1\n",
    "        A1=relu(Z1)\n",
    "        Z2=A1@W2+b2\n",
    "        A2=softmax(Z2)\n",
    "\n",
    "        dZ2=(A2-y)/batch_size\n",
    "        dW2 = A1.T @ dZ2\n",
    "        db2 = np.sum(dZ2, axis=0, keepdims=True)\n",
    "\n",
    "        dA1 = dZ2 @ W2.T\n",
    "        dZ1 = dA1 * relu_derivative(Z1)\n",
    "        dW1 = X.T @ dZ1\n",
    "        db1 = np.sum(dZ1, axis=0, keepdims=True)\n",
    "\n",
    "        W2 =W2-lr * dW2\n",
    "        b2 =b2-lr * db2\n",
    "        W1 =W1-lr * dW1\n",
    "        b1 =b1-lr * db1\n",
    "\n",
    "    Z1_test = relu(X_test @ W1 + b1)\n",
    "    A2_test = softmax(Z1_test @ W2 + b2)\n",
    "    acc = accuracy(A2_test, y_test)\n",
    "    print(f\"Epoch {epoch+1} - Test Accuracy: {acc:.4f}\")\n",
    "        \n",
    "    "
   ]
  },
  {
   "cell_type": "code",
   "execution_count": null,
   "id": "9f664cf1-c713-4db3-938a-34b045d5ea6a",
   "metadata": {},
   "outputs": [],
   "source": []
  }
 ],
 "metadata": {
  "kernelspec": {
   "display_name": "Python 3 (ipykernel)",
   "language": "python",
   "name": "python3"
  },
  "language_info": {
   "codemirror_mode": {
    "name": "ipython",
    "version": 3
   },
   "file_extension": ".py",
   "mimetype": "text/x-python",
   "name": "python",
   "nbconvert_exporter": "python",
   "pygments_lexer": "ipython3",
   "version": "3.12.7"
  }
 },
 "nbformat": 4,
 "nbformat_minor": 5
}
